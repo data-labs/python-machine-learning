{
 "cells": [
  {
   "cell_type": "markdown",
   "metadata": {
    "colab_type": "text",
    "id": "X3dBIDyofMpX"
   },
   "source": [
    "# 파이선 기본 문법\n",
    "\n",
    "- 기본 변수 (단일 데이터 저장)\n",
    " - 정수(int), 부동소수(float), 문자열(strings), 불리언(bool)  \n",
    "- 데이터 묶음 (복수 데이터 저장)\n",
    " - 리스트(list), 튜풀(tuple), 사전(dictionary) \n",
    "- 프로그램 흐름\n",
    " - if, else, for, while, continue, break"
   ]
  },
  {
   "cell_type": "markdown",
   "metadata": {},
   "source": [
    "# 기본 변수\n",
    "## 숫자\n",
    "- 한개의 숫자를 담는 변수\n",
    "- 정수(int), 부동소수(float)\n",
    "- 변수에 값을 배정(assign)할 때 \"=\"를 사용한다"
   ]
  },
  {
   "cell_type": "code",
   "execution_count": 1,
   "metadata": {},
   "outputs": [
    {
     "name": "stdout",
     "output_type": "stream",
     "text": [
      "3 0.5 김연아 True\n"
     ]
    }
   ],
   "source": [
    "## 파이썬의 기본 변수 4가지\n",
    "\n",
    "a = 3\n",
    "b = 0.5\n",
    "x = \"김연아\"\n",
    "y = True\n",
    "print(a,b,x,y)"
   ]
  },
  {
   "cell_type": "code",
   "execution_count": 2,
   "metadata": {},
   "outputs": [
    {
     "data": {
      "text/plain": [
       "3"
      ]
     },
     "execution_count": 2,
     "metadata": {},
     "output_type": "execute_result"
    }
   ],
   "source": [
    "## 문자열의 길이 보기 (length)\n",
    "\n",
    "len(x)  # 3"
   ]
  },
  {
   "cell_type": "code",
   "execution_count": 3,
   "metadata": {
    "colab": {},
    "colab_type": "code",
    "id": "QosL1F6CfMpY",
    "outputId": "265957ec-434a-4637-f4cf-56336667a62e"
   },
   "outputs": [
    {
     "name": "stdout",
     "output_type": "stream",
     "text": [
      "3.5\n",
      "2.5\n",
      "1.5\n",
      "6.0\n",
      "4.5\n"
     ]
    }
   ],
   "source": [
    "## 정수, 소수, 불리언의 4칙 연산\n",
    "\n",
    "print(a+b)\n",
    "print(a-b)\n",
    "print(a*b)\n",
    "print(a/b)\n",
    "print(a+b+y)"
   ]
  },
  {
   "cell_type": "code",
   "execution_count": 4,
   "metadata": {},
   "outputs": [
    {
     "data": {
      "text/plain": [
       "(int, float, str, bool)"
      ]
     },
     "execution_count": 4,
     "metadata": {},
     "output_type": "execute_result"
    }
   ],
   "source": [
    "## 변수의 타입 확인하기\n",
    "\n",
    "type(a), type(b), type(x), type(y) "
   ]
  },
  {
   "cell_type": "code",
   "execution_count": 5,
   "metadata": {},
   "outputs": [
    {
     "name": "stdout",
     "output_type": "stream",
     "text": [
      "2\n",
      "1\n",
      "343\n"
     ]
    }
   ],
   "source": [
    "## 나눗셈 몫과 나머지, 승수\n",
    "\n",
    "a = 7\n",
    "b = 3\n",
    "\n",
    "print(a//b)  # 2, 몫 구하기\n",
    "print(a%b)   # 1, 나머지 \n",
    "print(a**b)  # 232, 승수"
   ]
  },
  {
   "cell_type": "markdown",
   "metadata": {},
   "source": [
    "## 문자열"
   ]
  },
  {
   "cell_type": "code",
   "execution_count": 6,
   "metadata": {
    "scrolled": true
   },
   "outputs": [
    {
     "name": "stdout",
     "output_type": "stream",
     "text": [
      "오늘 날씨는 좋으네요~ \n"
     ]
    }
   ],
   "source": [
    "## 문자열 붙이기\n",
    "\n",
    "x = \"오늘 날씨는 \"\n",
    "y = \"좋으네요~ \"\n",
    "z = x + y\n",
    "print(z)"
   ]
  },
  {
   "cell_type": "code",
   "execution_count": 7,
   "metadata": {},
   "outputs": [
    {
     "data": {
      "text/plain": [
       "'오늘 날씨는 좋으네요~ 좋으네요~ 좋으네요~ '"
      ]
     },
     "execution_count": 7,
     "metadata": {},
     "output_type": "execute_result"
    }
   ],
   "source": [
    "## 문자열 반복하기\n",
    "\n",
    "x + 3*y"
   ]
  },
  {
   "cell_type": "code",
   "execution_count": 8,
   "metadata": {},
   "outputs": [
    {
     "name": "stdout",
     "output_type": "stream",
     "text": [
      "7\n",
      "오늘 날씨는 \n",
      "늘\n",
      "오늘 \n",
      "날씨는\n",
      "씨\n",
      "씨는 \n"
     ]
    }
   ],
   "source": [
    "## 문자열 일부 보기 (슬라이싱)\n",
    "\n",
    "x = \"오늘 날씨는 \"\n",
    "print(len(x)) # 문자열 전체 글자수\n",
    "print(x)       # 전체 보기\n",
    "print(x[1])   # 두 번째(1) 글자\n",
    "print(x[:3])  # 네 번재(3) 미만까지\n",
    "print(x[3:6]) # 네 번째(3) 이상 ~ 7번째(6) 미만\n",
    "print(x[-3])  # 뒤에서 세 번째(3) 글자\n",
    "print(x[-3:]) # 뒤에서 세 번째(3) 이후 "
   ]
  },
  {
   "cell_type": "markdown",
   "metadata": {},
   "source": [
    "### 문자열 조작, split과 join\n",
    "- 문자열을 공백, \"/\", \",\" 등을 기준으로 나누거나 합친다\n",
    "- 나누어진 항목은 리스트(list)에 저장된다 (리스트는 여러 데이터를 묶은 것)"
   ]
  },
  {
   "cell_type": "code",
   "execution_count": 9,
   "metadata": {},
   "outputs": [
    {
     "name": "stdout",
     "output_type": "stream",
     "text": [
      "['김연아', '손흥민', '이선희', '유재석']\n",
      "['김연아', '손흥민', '이선희', '유재석']\n"
     ]
    }
   ],
   "source": [
    "## 문자열을 ','나 공백(스페이스) 등으로 나누기\n",
    "\n",
    "name1 = '김연아,손흥민,이선희,유재석'\n",
    "\n",
    "# ','로 나누기\n",
    "z = name1.split(',')\n",
    "print(z)\n",
    "\n",
    "# 스페이스로 나누기 (디폴트)\n",
    "name2 = '김연아 손흥민 이선희 유재석'\n",
    "print(name2.split())  # 디폴트로 공백을 기준으로 나눈다"
   ]
  },
  {
   "cell_type": "code",
   "execution_count": 10,
   "metadata": {},
   "outputs": [
    {
     "data": {
      "text/plain": [
       "'김연아;손흥민;이선희;유재석'"
      ]
     },
     "execution_count": 10,
     "metadata": {},
     "output_type": "execute_result"
    }
   ],
   "source": [
    "## 단어 합치기\n",
    "\n",
    "';'.join(z)"
   ]
  },
  {
   "cell_type": "code",
   "execution_count": 11,
   "metadata": {},
   "outputs": [
    {
     "name": "stdout",
     "output_type": "stream",
     "text": [
      "['12', '31', '2023']\n",
      "31\n",
      "2023-12-31\n"
     ]
    }
   ],
   "source": [
    "## 날짜를 \"/\"를 기준으로 나누고 순서를 바꾸어서 합치기\n",
    "\n",
    "date = '12/31/2023'\n",
    "z = date.split('/')\n",
    "print(z)\n",
    "print(z[1])\n",
    "new_date = \"-\".join((z[2], z[0], z[1]))\n",
    "print(new_date)"
   ]
  },
  {
   "cell_type": "code",
   "execution_count": 12,
   "metadata": {},
   "outputs": [
    {
     "name": "stdout",
     "output_type": "stream",
     "text": [
      "오늘 기온은 \n"
     ]
    }
   ],
   "source": [
    "# 문자열 교체 (replace)\n",
    "\n",
    "x = \"오늘 날씨는 \"\n",
    "print(x.replace(\"날씨는\", \"기온은\"))"
   ]
  },
  {
   "cell_type": "markdown",
   "metadata": {},
   "source": [
    "### 문자열에 포맷( format) 사용하기\n",
    "- 문자열을 화면에 출력하는 방법(포맷)을 지정할 수 있다\n",
    "- 세가지 방법이 있다.\n",
    " - \"%\" 사용\n",
    " - format() 사용\n",
    " - f\"...\" 사용"
   ]
  },
  {
   "cell_type": "markdown",
   "metadata": {},
   "source": [
    "- %를 사용하는 방법"
   ]
  },
  {
   "cell_type": "code",
   "execution_count": 13,
   "metadata": {},
   "outputs": [
    {
     "name": "stdout",
     "output_type": "stream",
     "text": [
      "틀린 갯수가 5개 이하이면 90.5 점입니다.\n",
      "틀린 갯수가 5개 이하이면 90.500000 점입니다.\n",
      "틀린 갯수가 5개 이하이면 90.5 점입니다.\n"
     ]
    }
   ],
   "source": [
    "## 문자열 내에 변수를 같이 출력하는 방법 (format)\n",
    "\n",
    "x = 5\n",
    "y = 90.5\n",
    "\n",
    "print(f\"틀린 갯수가 {x}개 이하이면 {y} 점입니다.\")\n",
    "print(\"틀린 갯수가 %d개 이하이면 %f 점입니다.\" %(x,y))\n",
    "print(\"틀린 갯수가 {0}개 이하이면 {1} 점입니다.\".format(x,y))"
   ]
  },
  {
   "cell_type": "markdown",
   "metadata": {},
   "source": [
    "## 불리언\n",
    "- 참과 거짓을 True, False로 표현\n",
    "- 대소문자를 구분함"
   ]
  },
  {
   "cell_type": "markdown",
   "metadata": {},
   "source": [
    "- \">\", \"<\", \"==\", \">=\",\"<=\" 등의 비교연산을 사용하여 불리언 값을 얻을 수 있다"
   ]
  },
  {
   "cell_type": "code",
   "execution_count": 14,
   "metadata": {},
   "outputs": [
    {
     "name": "stdout",
     "output_type": "stream",
     "text": [
      "False\n",
      "True\n"
     ]
    }
   ],
   "source": [
    "## 비교 연산의 결과는 논리형 값이다\n",
    "\n",
    "x = 5\n",
    "z = x < 1\n",
    "print(z)\n",
    "print(x > 0)"
   ]
  },
  {
   "cell_type": "code",
   "execution_count": 15,
   "metadata": {},
   "outputs": [
    {
     "name": "stdout",
     "output_type": "stream",
     "text": [
      "False\n",
      "True\n"
     ]
    }
   ],
   "source": [
    "## 논리형 연산 결과는 논리형 값이다\n",
    "\n",
    "a = True\n",
    "b = False\n",
    "print(a & b)# False\n",
    "print(a | b)# True"
   ]
  },
  {
   "cell_type": "markdown",
   "metadata": {},
   "source": [
    "### 불리언의 연산\n",
    "- 불리언 변수가 연산에 사용되면 True는 1로, False는 0으로 취급된다"
   ]
  },
  {
   "cell_type": "markdown",
   "metadata": {
    "colab_type": "text",
    "id": "SR1EuTvjfMp7"
   },
   "source": [
    "# 데이터 묶음\n",
    " - 숫자, 문자, 불리언 등 단변수들을 여러개 묶어 처리하는 방법\n",
    " - 리스트(list), 튜플(tuple), 사전(dictionary)"
   ]
  },
  {
   "cell_type": "markdown",
   "metadata": {
    "colab_type": "text",
    "id": "SR1EuTvjfMp7"
   },
   "source": [
    "## 리스트\n",
    " - 파이썬에서 가장 널리 사용되는 데이터 조작용 \"통\"\n",
    " - 리스트를 구성하는 각 항목의 데이터 타입은 서로 달라도 된다"
   ]
  },
  {
   "cell_type": "markdown",
   "metadata": {},
   "source": [
    "### 리스트 생성\n",
    " - 리스트를 만들려면 대괄호 \"[ ]\" 를 사용하고 각 항목을 ','로 구분한다\n",
    " - list() 함수로도 만들 수 있다"
   ]
  },
  {
   "cell_type": "markdown",
   "metadata": {},
   "source": [
    "### 슬라이싱\n",
    "- 리스트 내의 어떤 범위의 항목을 얻는다"
   ]
  },
  {
   "cell_type": "code",
   "execution_count": 16,
   "metadata": {
    "colab": {},
    "colab_type": "code",
    "id": "PZNFeB9hfMqN",
    "outputId": "3c15b21b-5c03-4a17-83f7-d3c805cac456",
    "scrolled": true
   },
   "outputs": [
    {
     "name": "stdout",
     "output_type": "stream",
     "text": [
      "7\n",
      "[1, 2, 3, 30, 90, [100, 200], '김연아']\n",
      "2\n",
      "[1, 2, 3]\n",
      "[30, 90, [100, 200]]\n",
      "90\n",
      "[90, [100, 200], '김연아']\n"
     ]
    }
   ],
   "source": [
    "## 리스트 생성과 일부 항목 얻기\n",
    "\n",
    "a = 3\n",
    "b = 90\n",
    "small_list = [100,200]\n",
    "x = [1,2,a,a*10,b,small_list,'김연아']\n",
    "\n",
    "print(len(x)) # 리스트의 항목 수\n",
    "print(x)       # 전체 항목 보기\n",
    "print(x[1])   # 두 번째(1) 항목\n",
    "print(x[:3])  # 네 번재(3) 미만까지\n",
    "print(x[3:6]) # 네 번째(3) 이상 ~ 7번째(6) 미만\n",
    "print(x[-3])  # 뒤에서 세 번째(3) 항목\n",
    "print(x[-3:]) # 뒤에서 세 번째(3) 이후 "
   ]
  },
  {
   "cell_type": "markdown",
   "metadata": {},
   "source": [
    "### 항목 추가 : append()"
   ]
  },
  {
   "cell_type": "code",
   "execution_count": 17,
   "metadata": {
    "colab": {},
    "colab_type": "code",
    "id": "XpSrOjU2fMqe",
    "outputId": "682d1a04-f04c-4f7f-a8ee-a3e44f7765c3"
   },
   "outputs": [
    {
     "name": "stdout",
     "output_type": "stream",
     "text": [
      "[1, 2, 3, 30, 90, [100, 200], '김연아']\n"
     ]
    },
    {
     "data": {
      "text/plain": [
       "[1, 2, 3, 30, 90, [100, 200], '김연아', '손흥민', '손흥민']"
      ]
     },
     "execution_count": 17,
     "metadata": {},
     "output_type": "execute_result"
    }
   ],
   "source": [
    "## 리스트 맨 뒤에 항목 추가하기\n",
    "\n",
    "print(x)\n",
    "x.append('손흥민') # 맨 뒤에 추가된다\n",
    "x.append('손흥민') # 맨 뒤에 추가된다\n",
    "x"
   ]
  },
  {
   "cell_type": "code",
   "execution_count": 18,
   "metadata": {},
   "outputs": [
    {
     "data": {
      "text/plain": [
       "True"
      ]
     },
     "execution_count": 18,
     "metadata": {},
     "output_type": "execute_result"
    }
   ],
   "source": [
    "'김연아' in x"
   ]
  },
  {
   "cell_type": "code",
   "execution_count": 19,
   "metadata": {},
   "outputs": [
    {
     "name": "stdout",
     "output_type": "stream",
     "text": [
      "True\n",
      "False\n",
      "True\n"
     ]
    }
   ],
   "source": [
    "## 리스트에 포함된 항목 확인하기\n",
    "\n",
    "x = [30,40,'김연아']\n",
    "print(30 in x)\n",
    "print(100 in x)\n",
    "print('김연아' in x)"
   ]
  },
  {
   "cell_type": "markdown",
   "metadata": {},
   "source": [
    "### 리스트 복제\n",
    "- 리스트 전체를 반복 복제 하려면 \"*\"를 사용한다"
   ]
  },
  {
   "cell_type": "code",
   "execution_count": 20,
   "metadata": {},
   "outputs": [
    {
     "data": {
      "text/plain": [
       "[0, 0, 0, 0, 0, 1, 1, 1, 1, 1]"
      ]
     },
     "execution_count": 20,
     "metadata": {},
     "output_type": "execute_result"
    }
   ],
   "source": [
    "## 리스트 복제 및 더하기\n",
    "\n",
    "a = [0] # 항목이 0 하나인 리스트\n",
    "b = [1] # 항목이 1 하나인 리스트\n",
    "z = a*5 + b*5\n",
    "z"
   ]
  },
  {
   "cell_type": "markdown",
   "metadata": {},
   "source": [
    "### 리스트 정렬, sorted\n",
    "- 숫자 또는 알파벳순으로 정렬한다"
   ]
  },
  {
   "cell_type": "code",
   "execution_count": 21,
   "metadata": {},
   "outputs": [
    {
     "name": "stdout",
     "output_type": "stream",
     "text": [
      "[1, 2, 3, 4, 5]\n",
      "[5, 4, 3, 2, 1]\n",
      "['김연아', '박세리', '이선희']\n"
     ]
    }
   ],
   "source": [
    "## 리스트 순서 정렬하기\n",
    "\n",
    "x = [2,1,3,5,4]\n",
    "y = sorted(x)\n",
    "z = sorted(x, reverse=True)\n",
    "print(y)\n",
    "print(z)\n",
    "\n",
    "x = ['이선희', '김연아', '박세리']\n",
    "y = sorted(x)\n",
    "print(y)"
   ]
  },
  {
   "cell_type": "markdown",
   "metadata": {
    "colab_type": "text",
    "id": "v_cZd_gQfMqh"
   },
   "source": [
    "## 튜플 (tuple)\n",
    "- 튜플도 리스트처럼 여러 항목을 담을 수 있는 변수\n",
    "- 리스트와 달리 튜플의 내용은 '상수'로 취급되어 값을 바꿀 수 없다\n",
    "- 읽기 전용 리스트인 셈이며, 처리 속도가 빠르다\n",
    "- 튜플로 슬라이싱이 가능하다\n",
    "- 튜플을 만들려면 소괄호( )를 사용하여 만들거나 ( )  없이 \",\" 로 구분하여 나열한다"
   ]
  },
  {
   "cell_type": "code",
   "execution_count": 22,
   "metadata": {
    "colab": {},
    "colab_type": "code",
    "id": "FWh2t30OfMqi",
    "outputId": "07768f3c-c5fc-4107-f609-9ce2d3d29036"
   },
   "outputs": [
    {
     "name": "stdout",
     "output_type": "stream",
     "text": [
      "(1, 2, 3, 1, 2, 3, 90, 'good')\n",
      "90\n",
      "True\n",
      "False\n"
     ]
    }
   ],
   "source": [
    "## 튜플 만들기, 복제, 합치기\n",
    "\n",
    "tuple_a = (1, 2, 3)\n",
    "tuple_b = 90,\"good\"\n",
    "z = tuple_a*2 + tuple_b\n",
    "print(z)\n",
    "print(z[-2])\n",
    "print(3 in z)\n",
    "print(4 in z)"
   ]
  },
  {
   "cell_type": "markdown",
   "metadata": {
    "colab_type": "text",
    "id": "yynomsnffMqr"
   },
   "source": [
    "## 사전 (Dictionaries)\n",
    "- 키-값 조합 형태의 데이터 묶음\n",
    "- 간단한 데이터베이스처럼 사용된다\n",
    "- 항목을 찾을 때 키를 사용한다\n",
    "- 딕셔너리에서 저장된 순서는 의미가 없다\n",
    "- 딕셔너리는 중괄호 {  } 로 만들거나 dict()로 만든다"
   ]
  },
  {
   "cell_type": "code",
   "execution_count": 23,
   "metadata": {
    "colab": {},
    "colab_type": "code",
    "id": "M9BYH2N3fMqs",
    "outputId": "49be4e1c-dfc0-47e6-8df5-c04ccd187213"
   },
   "outputs": [
    {
     "name": "stdout",
     "output_type": "stream",
     "text": [
      "3\n",
      "{'grade': 3, 'age': 28, 'name': 'kim', 'address': 'Seoul'}\n"
     ]
    }
   ],
   "source": [
    "## 딕셔너리 생성, 값변경, 항목 추가하기\n",
    "\n",
    "student = {'grade': 3,'age': 21,'name': \"kim\"  }\n",
    "print(student['grade'])\n",
    "student['age'] = 28\n",
    "student['address'] = 'Seoul'\n",
    "print(student)"
   ]
  },
  {
   "cell_type": "code",
   "execution_count": 24,
   "metadata": {
    "colab": {},
    "colab_type": "code",
    "id": "knKE289jfMqv",
    "outputId": "f67dbaee-fcff-4724-f600-85ee933b3067",
    "scrolled": true
   },
   "outputs": [
    {
     "name": "stdout",
     "output_type": "stream",
     "text": [
      "dict_keys(['grade', 'age', 'name', 'address'])\n",
      "dict_values([3, 28, 'kim', 'Seoul'])\n",
      "dict_items([('grade', 3), ('age', 28), ('name', 'kim'), ('address', 'Seoul')])\n"
     ]
    }
   ],
   "source": [
    "## 딕셔너리의 키, 값, 항목 전체 출력하기\n",
    "\n",
    "print(student.keys())\n",
    "print(student.values())\n",
    "print(student.items()) "
   ]
  },
  {
   "cell_type": "code",
   "execution_count": 25,
   "metadata": {},
   "outputs": [
    {
     "name": "stdout",
     "output_type": "stream",
     "text": [
      "True\n",
      "False\n"
     ]
    }
   ],
   "source": [
    "## 딕셔너리에 특정 키가 존재하는지 확인하기\n",
    "\n",
    "print(\"age\" in student)\n",
    "print(\"sex\" in student)"
   ]
  },
  {
   "cell_type": "markdown",
   "metadata": {},
   "source": [
    "- 참고"
   ]
  },
  {
   "cell_type": "code",
   "execution_count": 26,
   "metadata": {},
   "outputs": [
    {
     "data": {
      "text/plain": [
       "{'key1': 10, 'key2': 8, 'key3': 12, 'key4': 9}"
      ]
     },
     "execution_count": 26,
     "metadata": {},
     "output_type": "execute_result"
    }
   ],
   "source": [
    "d = {}\n",
    "d[\"key1\"] = 10\n",
    "d[\"key2\"] = 8\n",
    "d[\"key3\"] = 12\n",
    "d[\"key4\"] = 9\n",
    "d"
   ]
  },
  {
   "cell_type": "code",
   "execution_count": 27,
   "metadata": {},
   "outputs": [
    {
     "name": "stdout",
     "output_type": "stream",
     "text": [
      "range(0, 10)\n",
      "[0, 1, 2, 3, 4, 5, 6, 7, 8, 9]\n",
      "range(2, 20, 3)\n",
      "[2, 5, 8, 11, 14, 17]\n"
     ]
    }
   ],
   "source": [
    "## 특수 변수 range와 내용 보기\n",
    "\n",
    "x = range(10)\n",
    "print(x)\n",
    "list_x = list(x)\n",
    "print(list_x)\n",
    "\n",
    "y = range(2,20,3)\n",
    "print(y)\n",
    "print(list(y))"
   ]
  },
  {
   "cell_type": "markdown",
   "metadata": {},
   "source": [
    "\n",
    "\n",
    "# 프로그램 흐름"
   ]
  },
  {
   "cell_type": "markdown",
   "metadata": {},
   "source": [
    "## if\n",
    "- if 문 다음이 True이면 \":\" 이후 블록을 실행한다\n",
    "- 블록은 들여쓰기가 같은 영역으로 구분한다\n",
    "- else: 문을 사용할 수도 있다.\n",
    "- if 뒤에는 불리언이 필요하다"
   ]
  },
  {
   "cell_type": "code",
   "execution_count": 28,
   "metadata": {},
   "outputs": [
    {
     "name": "stdout",
     "output_type": "stream",
     "text": [
      "축하합니다~ 합격입니다\n",
      "다음주부터 출근하시면 됩니다.\n"
     ]
    }
   ],
   "source": [
    "## 기본적인 if, elif, else 사용법\n",
    "\n",
    "x = 90\n",
    "\n",
    "if x > 80:\n",
    "    print(\"축하합니다~ 합격입니다\")\n",
    "    print(\"다음주부터 출근하시면 됩니다.\")\n",
    "elif x > 60:\n",
    "    print(\"2차 면접시험 대상자 입니다.\")\n",
    "    print(\"시험 날짜를 알려드리겠습니다.\")\n",
    "else:\n",
    "    print(\"불합격입니다.\")"
   ]
  },
  {
   "cell_type": "code",
   "execution_count": 29,
   "metadata": {},
   "outputs": [
    {
     "name": "stdout",
     "output_type": "stream",
     "text": [
      "----------------------\n",
      "불합격입니다.\n",
      "----------------------\n",
      "2차 면접시험 대상자 입니다.\n",
      "시험 날짜를 알려드리겠습니다.\n",
      "----------------------\n",
      "축하합니다~ 합격입니다\n",
      "다음주부터 출근하시면 됩니다.\n"
     ]
    }
   ],
   "source": [
    "## for 문을 사용하여 채점 결과를 알려주는 코드\n",
    "\n",
    "score = [50, 70, 90]\n",
    "for x in score:\n",
    "    print('----------------------')\n",
    "    if x > 80:\n",
    "        print(\"축하합니다~ 합격입니다\")\n",
    "        print(\"다음주부터 출근하시면 됩니다.\")\n",
    "    elif x > 60:\n",
    "        print(\"2차 면접시험 대상자 입니다.\")\n",
    "        print(\"시험 날짜를 알려드리겠습니다.\")\n",
    "    else:\n",
    "        print(\"불합격입니다.\")"
   ]
  },
  {
   "cell_type": "code",
   "execution_count": 30,
   "metadata": {},
   "outputs": [
    {
     "name": "stdout",
     "output_type": "stream",
     "text": [
      "----------------------\n",
      "1 번째 응시자님:\n",
      "불합격입니다.\n",
      "----------------------\n",
      "2 번째 응시자님:\n",
      "2차 면접시험 대상자 입니다.\n",
      "시험 날짜를 알려드리겠습니다.\n",
      "----------------------\n",
      "3 번째 응시자님:\n",
      "축하합니다~ 합격입니다\n",
      "다음주부터 출근하시면 됩니다.\n"
     ]
    }
   ],
   "source": [
    "## 리스트의 인덱스를 얻는 enumerate() 사용예\n",
    "\n",
    "score = [50, 70, 90]\n",
    "\n",
    "for i, x in enumerate([50, 70, 90]):\n",
    "    print('----------------------')\n",
    "    print(i+1, \"번째 응시자님:\")\n",
    "    if x > 80:\n",
    "        print(\"축하합니다~ 합격입니다\")\n",
    "        print(\"다음주부터 출근하시면 됩니다.\")\n",
    "    elif x > 60:\n",
    "        print(\"2차 면접시험 대상자 입니다.\")\n",
    "        print(\"시험 날짜를 알려드리겠습니다.\")\n",
    "    else:\n",
    "        print(\"불합격입니다.\")"
   ]
  },
  {
   "cell_type": "code",
   "execution_count": 31,
   "metadata": {},
   "outputs": [
    {
     "name": "stdout",
     "output_type": "stream",
     "text": [
      "[(0, 'kim'), (1, 'park'), (2, 'lee')]\n",
      "1 번째 사람 이름은 kim입니다\n",
      "2 번째 사람 이름은 park입니다\n",
      "3 번째 사람 이름은 lee입니다\n"
     ]
    }
   ],
   "source": [
    "## enumerate 사용 예\n",
    "\n",
    "names = [\"kim\", \"park\", \"lee\"]\n",
    "print(list(enumerate(names)))\n",
    "\n",
    "for i, name in enumerate(names):\n",
    "    print(f\"{i+1} 번째 사람 이름은 {name}입니다\")"
   ]
  },
  {
   "cell_type": "markdown",
   "metadata": {},
   "source": [
    "### in 사용하여 불리언 얻기"
   ]
  },
  {
   "cell_type": "markdown",
   "metadata": {},
   "source": [
    "## for\n",
    "- 특정 조건이 만족되는 동안 \":\" 이후의 블록을 수행\n",
    "- 수행할 블록은 들여쓰기로 구분한다"
   ]
  },
  {
   "cell_type": "code",
   "execution_count": 32,
   "metadata": {},
   "outputs": [
    {
     "name": "stdout",
     "output_type": "stream",
     "text": [
      "10\n",
      "20\n",
      "30\n",
      "40\n",
      "50\n"
     ]
    }
   ],
   "source": [
    "## 1~5 사이의 정수에 10을 곱하기\n",
    "\n",
    "for i in range(1,6):\n",
    "    print(i*10)"
   ]
  },
  {
   "cell_type": "markdown",
   "metadata": {},
   "source": [
    "### 리스트 내에서 for 사용하기"
   ]
  },
  {
   "cell_type": "code",
   "execution_count": 33,
   "metadata": {},
   "outputs": [
    {
     "name": "stdout",
     "output_type": "stream",
     "text": [
      "[10, 20, 30, 40, 50]\n"
     ]
    }
   ],
   "source": [
    "## 리스트 선언문 내에서 for를 사용하는 방법\n",
    "\n",
    "z = [i*10 for i in range(1,6)]\n",
    "print(z)"
   ]
  },
  {
   "cell_type": "code",
   "execution_count": 34,
   "metadata": {},
   "outputs": [
    {
     "name": "stdout",
     "output_type": "stream",
     "text": [
      "True\n",
      "True\n"
     ]
    }
   ],
   "source": [
    "## 문자열에 문자열 포함 확인하기\n",
    "\n",
    "s = 'I am happy'\n",
    "print('happy' in s)\n",
    "print('hap' in s)"
   ]
  },
  {
   "cell_type": "code",
   "execution_count": 35,
   "metadata": {},
   "outputs": [
    {
     "name": "stdout",
     "output_type": "stream",
     "text": [
      "['cat001', 'cat002']\n"
     ]
    }
   ],
   "source": [
    "## 특정 문자열이 포함된 항목을 찾아서 리스트를 만들기\n",
    "\n",
    "files = ['cat001', 'cat002', 'dog003', 'dog004']\n",
    "match = 'cat'\n",
    "new_list = [s for s in files if match in s]\n",
    "print(new_list)"
   ]
  },
  {
   "cell_type": "markdown",
   "metadata": {},
   "source": [
    "### 구구단을 딕셔너리 구조의 데이터베이스로\n",
    "- 결과를 딕셔너리로 만들고 입력을 주면 출력을 리턴하는 간단한 데이터베이스로 만들어보시오\n",
    "- result[(7,9)] ==> 결과 63\n",
    "- 힌트: 빈 딕션너리를 만들고 키 값으로 (2,1), (2,2),..등을 사용한다"
   ]
  },
  {
   "cell_type": "code",
   "execution_count": 36,
   "metadata": {},
   "outputs": [
    {
     "data": {
      "text/plain": [
       "63"
      ]
     },
     "execution_count": 36,
     "metadata": {},
     "output_type": "execute_result"
    }
   ],
   "source": [
    "## 구구단을 딕셔너리로 만들고 사용하기\n",
    "\n",
    "result = {}\n",
    "for i in range(2,10):\n",
    "    for j in range(1,10):\n",
    "        result[(i, j)] = i*j\n",
    "        \n",
    "# 구구단 사용하기\n",
    "result[(7,9)] # 63"
   ]
  }
 ],
 "metadata": {
  "colab": {
   "collapsed_sections": [
    "v_cZd_gQfMqh",
    "yynomsnffMqr",
    "zd5EnJeQfMrE"
   ],
   "name": "g_01_파이선기초.ipynb",
   "provenance": []
  },
  "kernelspec": {
   "display_name": "Python 3",
   "language": "python",
   "name": "python3"
  },
  "language_info": {
   "codemirror_mode": {
    "name": "ipython",
    "version": 3
   },
   "file_extension": ".py",
   "mimetype": "text/x-python",
   "name": "python",
   "nbconvert_exporter": "python",
   "pygments_lexer": "ipython3",
   "version": "3.8.8"
  },
  "toc": {
   "base_numbering": 1,
   "nav_menu": {},
   "number_sections": false,
   "sideBar": true,
   "skip_h1_title": false,
   "title_cell": "Table of Contents",
   "title_sidebar": "Contents",
   "toc_cell": false,
   "toc_position": {
    "height": "calc(100% - 180px)",
    "left": "10px",
    "top": "150px",
    "width": "182px"
   },
   "toc_section_display": true,
   "toc_window_display": true
  }
 },
 "nbformat": 4,
 "nbformat_minor": 1
}
